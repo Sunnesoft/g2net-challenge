{
 "cells": [
  {
   "cell_type": "code",
   "execution_count": 1,
   "metadata": {
    "collapsed": true
   },
   "outputs": [],
   "source": [
    "import numpy as np\n",
    "from matplotlib import pyplot as plt\n",
    "from scipy.fft import rfft, rfftfreq, irfft"
   ]
  },
  {
   "cell_type": "code",
   "execution_count": 2,
   "outputs": [],
   "source": [
    "def load_gsignal(fp):\n",
    "    s = np.load(fp)\n",
    "    return s\n",
    "\n",
    "def draw_gsignal(arrays, time=None, gtype='scatter'):\n",
    "    fig = plt.figure(figsize=(18, 8), dpi=200)\n",
    "    fig.patch.set_facecolor('white')\n",
    "\n",
    "    for i, array in enumerate(arrays):\n",
    "        if time is None:\n",
    "            time = list(range(len(array)))\n",
    "        if gtype == 'scatter':\n",
    "            plt.scatter(time, array, label=i)\n",
    "        elif gtype == 'line':\n",
    "            plt.plot(time, array, label=i)\n",
    "    plt.xlabel('')\n",
    "    plt.ylabel('')\n",
    "    plt.legend()\n",
    "    plt.show()\n",
    "    plt.clf()"
   ],
   "metadata": {
    "collapsed": false,
    "pycharm": {
     "name": "#%%\n"
    }
   }
  },
  {
   "cell_type": "code",
   "execution_count": 3,
   "outputs": [],
   "source": [
    "s1 = load_gsignal(\"././00000e74ad.npy\")\n",
    "draw_gsignal(s1)"
   ],
   "metadata": {
    "collapsed": false,
    "pycharm": {
     "name": "#%%\n"
    }
   }
  },
  {
   "cell_type": "code",
   "execution_count": 4,
   "outputs": [],
   "source": [
    "N = s1.shape[1]\n",
    "# sample spacing\n",
    "sample_rate = 2048.0\n",
    "T = 1.0 / sample_rate\n",
    "\n",
    "signal = s1[0]\n",
    "yf = rfft(signal)\n",
    "xf = rfftfreq(N, T)\n",
    "# xf = fftshift(xf)\n",
    "# yplot = fftshift(yf)\n",
    "\n",
    "draw_gsignal(time=xf, arrays=[np.abs(yf)], gtype='line')"
   ],
   "metadata": {
    "collapsed": false,
    "pycharm": {
     "name": "#%%\n"
    }
   }
  },
  {
   "cell_type": "code",
   "execution_count": 5,
   "outputs": [],
   "source": [
    "# The maximum frequency is half the sample rate\n",
    "points_per_freq = len(xf) / (sample_rate / 2)\n",
    "target_idx = int(points_per_freq * 35)\n",
    "target_idx_right = int(points_per_freq * 150)\n",
    "yf[target_idx:target_idx_right] = 0\n",
    "\n",
    "plt.plot(xf, np.abs(yf))\n",
    "plt.show()"
   ],
   "metadata": {
    "collapsed": false,
    "pycharm": {
     "name": "#%%\n"
    }
   }
  },
  {
   "cell_type": "code",
   "execution_count": 6,
   "outputs": [],
   "source": [
    "new_sig = irfft(yf)\n",
    "\n",
    "plt.plot(new_sig)\n",
    "plt.show()"
   ],
   "metadata": {
    "collapsed": false,
    "pycharm": {
     "name": "#%%\n"
    }
   }
  },
  {
   "cell_type": "code",
   "execution_count": 7,
   "outputs": [],
   "source": [
    "eps = signal - new_sig\n",
    "plt.plot(eps)\n",
    "plt.show()"
   ],
   "metadata": {
    "collapsed": false,
    "pycharm": {
     "name": "#%%\n"
    }
   }
  },
  {
   "cell_type": "code",
   "execution_count": 8,
   "outputs": [],
   "source": [
    "from scipy.signal import butter, sosfilt, sosfreqz\n",
    "\n",
    "def butter_bandpass(lowcut, highcut, fs, order=5):\n",
    "        nyq = 0.5 * fs\n",
    "        low = lowcut / nyq\n",
    "        high = highcut / nyq\n",
    "        sos = butter(order, [low, high], analog=False, btype='band', output='sos')\n",
    "        return sos\n",
    "\n",
    "def butter_bandpass_filter(data, lowcut, highcut, fs, order=5):\n",
    "        sos = butter_bandpass(lowcut, highcut, fs, order=order)\n",
    "        y = sosfilt(sos, data)\n",
    "        return y\n",
    "\n",
    "new_sig = butter_bandpass_filter(signal, 35, 600, sample_rate, order=2)\n",
    "\n",
    "plt.plot(new_sig)\n",
    "plt.plot(s1[2])\n",
    "plt.show()\n"
   ],
   "metadata": {
    "collapsed": false,
    "pycharm": {
     "name": "#%%\n"
    }
   }
  },
  {
   "cell_type": "code",
   "execution_count": 9,
   "outputs": [],
   "source": [
    "import filters\n",
    "\n",
    "signal = load_gsignal(\"././00000e74ad.npy\")\n",
    "sample_rate = 2048.0\n",
    "bp = filters.bandpass(35, 600, sample_rate)\n",
    "notches = [filters.notch(line, sample_rate) for line in (60, 120, 180)]\n",
    "zpk = filters.concatenate_zpks(bp, *notches)\n",
    "hfilt = filters.apply_filter(signal[1], *zpk)\n",
    "draw_gsignal([hfilt], gtype='line')"
   ],
   "metadata": {
    "collapsed": false,
    "pycharm": {
     "name": "#%%\n"
    }
   }
  },
  {
   "cell_type": "code",
   "execution_count": 219,
   "outputs": [],
   "source": [
    "import h5py\n",
    "import filters\n",
    "\n",
    "signal = None\n",
    "with h5py.File('./H-H1_LOSC_4_V1-1126256640-4096.hdf5', 'r') as f:\n",
    "    d = f['strain']['Strain']\n",
    "    signal = d[0:]\n",
    "\n",
    "sample_rate = 4096\n",
    "bp = filters.bandpass(50, 250, sample_rate)\n",
    "notches = [filters.notch(line, sample_rate) for line in (60, 120, 180)]\n",
    "zpk = filters.concatenate_zpks(bp, *notches)\n",
    "hfilt = filters.apply_filter(signal, *zpk)\n",
    "print(len(hfilt)/sample_rate)\n",
    "#hfilt = hfilt[13*sample_rate:1800*sample_rate]\n",
    "draw_gsignal([hfilt[2822*sample_rate:2822*sample_rate+int(0.6*sample_rate)]], gtype='line')"
   ],
   "metadata": {
    "collapsed": false,
    "pycharm": {
     "name": "#%%\n"
    }
   }
  },
  {
   "cell_type": "code",
   "execution_count": 223,
   "outputs": [],
   "source": [
    "s = signal[2822*sample_rate:2826*sample_rate]\n",
    "f_asd, v_asd = filters.asd(s, sample_rate, 4, 2)\n",
    "\n",
    "fig, ax = plt.subplots()\n",
    "ax.semilogy(f_asd, v_asd)\n",
    "ax.set_xscale('symlog')\n",
    "plt.xlabel('frequency [Hz]')\n",
    "plt.ylabel('ASD [Hz^{-1/2}]')\n",
    "plt.show()"
   ],
   "metadata": {
    "collapsed": false,
    "pycharm": {
     "name": "#%%\n"
    }
   }
  },
  {
   "cell_type": "code",
   "execution_count": 12,
   "outputs": [],
   "source": [
    "s = signal[2822*sample_rate:2826*sample_rate]\n",
    "\n",
    "fftlength = 2\n",
    "overlap = 0.5 * fftlength\n",
    "f_asd, v_asd = filters.asd(s, sample_rate, fftlength=fftlength, overlap=overlap)\n",
    "\n",
    "fmin = 10\n",
    "fmax = 2000\n",
    "fig, ax = plt.subplots()\n",
    "ax.semilogy(f_asd, v_asd)\n",
    "ax.set_xscale('symlog')\n",
    "plt.axis([fmin, fmax, 1e-24, 1e-19])\n",
    "plt.xlabel('frequency [Hz]')\n",
    "plt.ylabel('ASD [Hz^{-1/2}]')\n",
    "plt.show()\n",
    "\n",
    "whiten_s = filters.whiten(s, sample_rate, fftlength=fftlength, overlap=overlap)\n",
    "\n",
    "fig, ax = plt.subplots()\n",
    "ax.plot(whiten_s)\n",
    "plt.xlabel('frequency [Hz]')\n",
    "plt.ylabel('ASD [Hz^{-1/2}]')\n",
    "plt.show()\n",
    "\n",
    "f_asd, v_asd = filters.asd(whiten_s, sample_rate, fftlength=fftlength, overlap=overlap)\n",
    "\n",
    "fig, ax = plt.subplots()\n",
    "ax.semilogy(f_asd, v_asd)\n",
    "ax.set_xscale('symlog')\n",
    "plt.xlabel('frequency [Hz]')\n",
    "plt.ylabel('ASD [Hz^{-1/2}]')\n",
    "plt.show()\n",
    "\n",
    "zpk = filters.butter_bandpass(35, 350, sample_rate, 8)\n",
    "whiten_sf = filters.apply_filter(whiten_s, *zpk)\n",
    "\n",
    "fig, ax = plt.subplots()\n",
    "ax.plot(whiten_sf[0:int(0.6*sample_rate)])\n",
    "plt.xlabel('frequency [Hz]')\n",
    "plt.ylabel('ASD [Hz^{-1/2}]')\n",
    "plt.show()"
   ],
   "metadata": {
    "collapsed": false,
    "pycharm": {
     "name": "#%%\n"
    }
   }
  },
  {
   "cell_type": "code",
   "execution_count": 13,
   "outputs": [],
   "source": [
    "import matplotlib.mlab as mlab\n",
    "from scipy.interpolate import interp1d\n",
    "\n",
    "NFFT = 2*sample_rate\n",
    "fmin = 10\n",
    "fmax = 2000\n",
    "Pxx_H1, freqs = mlab.psd(s, Fs = sample_rate, NFFT = NFFT)\n",
    "\n",
    "# We will use interpolations of the ASDs computed above for whitening:\n",
    "psd_H1 = interp1d(freqs, Pxx_H1)\n",
    "\n",
    "# plot the ASDs:\n",
    "plt.figure()\n",
    "plt.loglog(freqs, np.sqrt(Pxx_H1),'r',label='H1 strain')\n",
    "plt.axis([fmin, fmax, 1e-24, 1e-19])\n",
    "plt.grid('on')\n",
    "plt.ylabel('ASD (strain/rtHz)')\n",
    "plt.xlabel('Freq (Hz)')\n",
    "plt.legend(loc='upper center')\n",
    "plt.title('Advanced LIGO strain data near GW150914')\n",
    "plt.show()"
   ],
   "metadata": {
    "collapsed": false,
    "pycharm": {
     "name": "#%%\n"
    }
   }
  },
  {
   "cell_type": "code",
   "execution_count": 14,
   "outputs": [],
   "source": [
    "def whiten(strain, interp_psd, dt):\n",
    "    Nt = len(strain)\n",
    "    freqs = np.fft.rfftfreq(Nt, dt)\n",
    "\n",
    "    # whitening: transform to freq domain, divide by asd, then transform back,\n",
    "    # taking care to get normalization right.\n",
    "    hf = np.fft.rfft(strain)\n",
    "    white_hf = hf / (np.sqrt(interp_psd(freqs) /dt/2.))\n",
    "    white_ht = np.fft.irfft(white_hf, n=Nt)\n",
    "    return white_ht\n",
    "\n",
    "dt = 1./sample_rate\n",
    "# now whiten the data from H1 and L1, and also the NR template:\n",
    "strain_H1_whiten = whiten(s,psd_H1,dt)"
   ],
   "metadata": {
    "collapsed": false,
    "pycharm": {
     "name": "#%%\n"
    }
   }
  },
  {
   "cell_type": "code",
   "execution_count": 15,
   "outputs": [],
   "source": [
    "from scipy.signal import butter, sosfiltfilt\n",
    "\n",
    "sos = butter(4, [50.*2./sample_rate, 250.*2./sample_rate], btype='band', output='sos')\n",
    "strain_H1_whitenbp = sosfiltfilt(sos, strain_H1_whiten)\n",
    "\n",
    "plt.figure()\n",
    "plt.plot(strain_H1_whitenbp[int(1.8*sample_rate): int(2.3*sample_rate)],'r',label='H1 strain')\n",
    "plt.ylabel('whitented strain')\n",
    "plt.legend(loc='lower left')\n",
    "plt.title('Advanced LIGO WHITENED strain data near GW150914')\n",
    "plt.show()"
   ],
   "metadata": {
    "collapsed": false,
    "pycharm": {
     "name": "#%%\n"
    }
   }
  }
 ],
 "metadata": {
  "kernelspec": {
   "display_name": "Python 3",
   "language": "python",
   "name": "python3"
  },
  "language_info": {
   "codemirror_mode": {
    "name": "ipython",
    "version": 2
   },
   "file_extension": ".py",
   "mimetype": "text/x-python",
   "name": "python",
   "nbconvert_exporter": "python",
   "pygments_lexer": "ipython2",
   "version": "2.7.6"
  }
 },
 "nbformat": 4,
 "nbformat_minor": 0
}