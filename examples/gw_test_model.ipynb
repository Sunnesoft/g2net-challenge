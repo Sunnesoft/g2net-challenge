{
 "cells": [
  {
   "cell_type": "markdown",
   "metadata": {
    "collapsed": true,
    "pycharm": {
     "name": "#%% md\n"
    }
   },
   "source": [
    "Mount GDrive as folder:"
   ]
  },
  {
   "cell_type": "code",
   "execution_count": null,
   "outputs": [],
   "source": [
    "import os\n",
    "from google.colab import drive\n",
    "\n",
    "BASE_PATH = '/content/'\n",
    "DRIVE_PATH = os.path.join(BASE_PATH, 'drive')\n",
    "drive.mount(DRIVE_PATH)"
   ],
   "metadata": {
    "collapsed": false,
    "pycharm": {
     "name": "#%%\n"
    }
   }
  },
  {
   "cell_type": "markdown",
   "source": [
    "Load model processing module from GitHub and initialize settings:"
   ],
   "metadata": {
    "collapsed": false
   }
  },
  {
   "cell_type": "code",
   "execution_count": null,
   "outputs": [],
   "source": [
    "!wget -q https://raw.githubusercontent.com/Sunnesoft/g2net-challenge/main/gw_dataset.py -O /content/gw_dataset.py\n",
    "!wget -q https://raw.githubusercontent.com/Sunnesoft/g2net-challenge/main/gw_model.py -O /content/gw_model.py\n",
    "\n",
    "\n",
    "IMAGE_SIZE = (512, 512, 3)\n",
    "IMAGE_SCALE = 255.0\n",
    "BATCH_SIZE = 64\n",
    "EPOCHS = 20\n",
    "\n",
    "INPUT_PATH = os.path.join(BASE_PATH, 'tfrecords/test/')\n",
    "ZIP_GD_IN_FILE = os.path.join(DRIVE_PATH, 'MyDrive/g2net/tfrecords_test.zip')\n",
    "EXPER_TPL = f'{\"_\".join(IMAGE_SIZE)}_{BATCH_SIZE}_{EPOCHS}'\n",
    "OUT_PATH = os.path.join(BASE_PATH, f'model/{EXPER_TPL}')\n",
    "GD_OUT_PATH = os.path.join(DRIVE_PATH, f'MyDrive/g2net/model/{EXPER_TPL}/')\n",
    "\n",
    "!mkdir -p $INPUT_PATH\n",
    "!mkdir -p $GD_OUT_PATH\n",
    "!unzip -qq $ZIP_GD_IN_FILE -d $INPUT_PATH"
   ],
   "metadata": {
    "collapsed": false,
    "pycharm": {
     "name": "#%%\n"
    }
   }
  },
  {
   "cell_type": "markdown",
   "source": [
    "Test EffitientNetB0 model:"
   ],
   "metadata": {
    "collapsed": false
   }
  },
  {
   "cell_type": "code",
   "execution_count": null,
   "outputs": [],
   "source": [
    "import gw_model as gwm\n",
    "\n",
    "solver = gwm.GwEfficientNetB0(\n",
    "    name='eff_net_b0',\n",
    "    mode=gwm.TfDevice.TPU,\n",
    "    image_size=IMAGE_SIZE,\n",
    "    image_scale_factor=IMAGE_SCALE,\n",
    "    model_path=OUT_PATH)\n",
    "\n",
    "solver.load_test_dataset(INPUT_PATH, batch_size=BATCH_SIZE)\n",
    "solver.show_random_test_batch()\n",
    "\n",
    "solver.compile()\n",
    "solver.print_model()\n",
    "solver.load_model()\n",
    "solver.infer_test_dataset()"
   ],
   "metadata": {
    "collapsed": false,
    "pycharm": {
     "name": "#%%\n"
    }
   }
  },
  {
   "cell_type": "code",
   "execution_count": null,
   "outputs": [],
   "source": [
    "command = f'cp {solver.model_fullpath} {os.path.join(GD_OUT_PATH, solver.model_filename)}'\n",
    "!{command}"
   ],
   "metadata": {
    "collapsed": false,
    "pycharm": {
     "name": "#%%\n"
    }
   }
  },
  {
   "cell_type": "markdown",
   "source": [
    "Test Xception model:"
   ],
   "metadata": {
    "collapsed": false
   }
  },
  {
   "cell_type": "code",
   "execution_count": null,
   "outputs": [],
   "source": [
    "solver = gwm.GwXception(\n",
    "    name='xception',\n",
    "    mode=gwm.TfDevice.TPU,\n",
    "    image_size=IMAGE_SIZE,\n",
    "    image_scale_factor=IMAGE_SCALE,\n",
    "    model_path=OUT_PATH)\n",
    "\n",
    "solver.load_test_dataset(INPUT_PATH, batch_size=BATCH_SIZE)\n",
    "solver.show_random_test_batch()\n",
    "\n",
    "solver.compile()\n",
    "solver.print_model()\n",
    "solver.load_model()\n",
    "solver.infer_test_dataset()"
   ],
   "metadata": {
    "collapsed": false,
    "pycharm": {
     "name": "#%%\n"
    }
   }
  },
  {
   "cell_type": "code",
   "execution_count": null,
   "outputs": [],
   "source": [
    "command = f'cp {solver.model_fullpath} {os.path.join(GD_OUT_PATH, solver.model_filename)}'\n",
    "!{command}"
   ],
   "metadata": {
    "collapsed": false,
    "pycharm": {
     "name": "#%%\n"
    }
   }
  },
  {
   "cell_type": "markdown",
   "source": [
    "Test LeNet model:"
   ],
   "metadata": {
    "collapsed": false
   }
  },
  {
   "cell_type": "code",
   "execution_count": null,
   "outputs": [],
   "source": [
    "solver = gwm.GwLeNet(\n",
    "    name='le_net',\n",
    "    mode=gwm.TfDevice.TPU,\n",
    "    image_size=IMAGE_SIZE,\n",
    "    image_scale_factor=IMAGE_SCALE,\n",
    "    model_path=OUT_PATH)\n",
    "\n",
    "solver.load_test_dataset(INPUT_PATH, batch_size=BATCH_SIZE)\n",
    "solver.show_random_test_batch()\n",
    "\n",
    "solver.compile(optimizer='adam',\n",
    "               loss='binary_crossentropy',\n",
    "               metrics=['AUC'])\n",
    "solver.print_model()\n",
    "solver.load_model()\n",
    "solver.infer_test_dataset()"
   ],
   "metadata": {
    "collapsed": false,
    "pycharm": {
     "name": "#%%\n"
    }
   }
  },
  {
   "cell_type": "code",
   "execution_count": null,
   "outputs": [],
   "source": [
    "command = f'cp {solver.model_fullpath} {os.path.join(GD_OUT_PATH, solver.model_filename)}'\n",
    "!{command}"
   ],
   "metadata": {
    "collapsed": false,
    "pycharm": {
     "name": "#%%\n"
    }
   }
  }
 ],
 "metadata": {
  "kernelspec": {
   "display_name": "Python 3",
   "language": "python",
   "name": "python3"
  },
  "language_info": {
   "codemirror_mode": {
    "name": "ipython",
    "version": 2
   },
   "file_extension": ".py",
   "mimetype": "text/x-python",
   "name": "python",
   "nbconvert_exporter": "python",
   "pygments_lexer": "ipython2",
   "version": "2.7.6"
  }
 },
 "nbformat": 4,
 "nbformat_minor": 0
}