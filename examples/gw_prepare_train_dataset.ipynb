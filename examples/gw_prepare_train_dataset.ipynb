{
 "cells": [
  {
   "cell_type": "markdown",
   "source": [
    "Mount GDrive as folder:"
   ],
   "metadata": {
    "collapsed": false
   }
  },
  {
   "cell_type": "code",
   "execution_count": null,
   "outputs": [],
   "source": [
    "import os\n",
    "from google.colab import drive\n",
    "\n",
    "BASE_PATH = '/content/'\n",
    "DRIVE_PATH = os.path.join(BASE_PATH, 'drive')\n",
    "drive.mount(DRIVE_PATH)"
   ],
   "metadata": {
    "collapsed": false,
    "pycharm": {
     "name": "#%%\n"
    }
   }
  },
  {
   "cell_type": "markdown",
   "source": [
    "Load dataset processing module from GitHub and initialize settings:"
   ],
   "metadata": {
    "collapsed": false
   }
  },
  {
   "cell_type": "code",
   "execution_count": null,
   "outputs": [],
   "source": [
    "!wget -q https://raw.githubusercontent.com/Sunnesoft/g2net-challenge/main/gw_dataset.py -O /content/gw_dataset.py\n",
    "\n",
    "INPUT_PATH = os.path.join(BASE_PATH, 'cqt/train/')\n",
    "LABELS = os.path.join(DRIVE_PATH, 'MyDrive/g2net/training_labels.csv')\n",
    "OUT_PATH = os.path.join(BASE_PATH, 'tfrecords/train/')\n",
    "OUT_TASK = {OUT_PATH: 100}\n",
    "IMAGE_SIZE = (512, 512)\n",
    "BATCH_SIZE = 1024\n",
    "ZIP_OUT_FILE = os.path.join(BASE_PATH, 'cqt_train.zip')\n",
    "ZIP_GD_IN_FILE = os.path.join(DRIVE_PATH, 'MyDrive/g2net/cqt_train.zip')\n",
    "ZIP_GD_OUT_FILE = os.path.join(DRIVE_PATH, 'MyDrive/g2net/tfrecords_train.zip')\n",
    "\n",
    "!mkdir -p $INPUT_PATH\n",
    "!unzip -qq $ZIP_GD_IN_FILE -d $INPUT_PATH"
   ],
   "metadata": {
    "collapsed": false,
    "pycharm": {
     "name": "#%%\n"
    }
   }
  },
  {
   "cell_type": "markdown",
   "source": [
    "Obtain the labeled train dataset from the constant q-transform tiles:"
   ],
   "metadata": {
    "collapsed": false
   }
  },
  {
   "cell_type": "code",
   "execution_count": null,
   "outputs": [],
   "source": [
    "import gw_dataset as gwds\n",
    "\n",
    "os.makedirs(OUT_PATH, exist_ok=True)\n",
    "gwds.create_tfrecords(\n",
    "    INPUT_PATH, OUT_TASK, LABELS,\n",
    "    shuffle=True,\n",
    "    batch_size=BATCH_SIZE,\n",
    "    remove_older=True,\n",
    "    image_size=IMAGE_SIZE)"
   ],
   "metadata": {
    "collapsed": false,
    "pycharm": {
     "name": "#%%\n"
    }
   }
  },
  {
   "cell_type": "markdown",
   "source": [
    "Archive results and copy to GDrive:"
   ],
   "metadata": {
    "collapsed": false
   }
  },
  {
   "cell_type": "code",
   "execution_count": null,
   "outputs": [],
   "source": [
    "!zip -rq $ZIP_PATH $OUT_PATH\n",
    "!cp $ZIP_PATH $ZIP_GD_OUT_FILE"
   ],
   "metadata": {
    "collapsed": false,
    "pycharm": {
     "name": "#%%\n"
    }
   }
  }
 ],
 "metadata": {
  "kernelspec": {
   "display_name": "Python 3",
   "language": "python",
   "name": "python3"
  },
  "language_info": {
   "codemirror_mode": {
    "name": "ipython",
    "version": 2
   },
   "file_extension": ".py",
   "mimetype": "text/x-python",
   "name": "python",
   "nbconvert_exporter": "python",
   "pygments_lexer": "ipython2",
   "version": "2.7.6"
  }
 },
 "nbformat": 4,
 "nbformat_minor": 0
}