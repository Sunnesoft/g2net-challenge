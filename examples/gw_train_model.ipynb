{
 "cells": [
  {
   "cell_type": "markdown",
   "metadata": {
    "collapsed": true,
    "pycharm": {
     "name": "#%% md\n"
    }
   },
   "source": [
    "Install gwnet package:"
   ]
  },
  {
   "cell_type": "code",
   "execution_count": null,
   "outputs": [],
   "source": [
    "!pip install --upgrade git+git://github.com/Sunnesoft/g2net-challenge.git\n",
    "\n",
    "from gwnet import GwEfficientNetB0, GwXception, GwLeNet, TfDevice"
   ],
   "metadata": {
    "collapsed": false,
    "pycharm": {
     "name": "#%%\n"
    }
   }
  },
  {
   "cell_type": "markdown",
   "source": [
    "Mount Google Drive folder with processed by whiten, bandpass and notch filters dataset:"
   ],
   "metadata": {
    "collapsed": false
   }
  },
  {
   "cell_type": "code",
   "execution_count": null,
   "outputs": [],
   "source": [
    "import os\n",
    "from google.colab import drive\n",
    "\n",
    "BASE_PATH = '/content/'\n",
    "DRIVE_PATH = os.path.join(BASE_PATH, 'drive')\n",
    "drive.mount(DRIVE_PATH)"
   ],
   "metadata": {
    "collapsed": false,
    "pycharm": {
     "name": "#%%\n"
    }
   }
  },
  {
   "cell_type": "markdown",
   "source": [
    "Set up the configuration and extract the train dataset from Google Drive to $BASE_PATH folder:"
   ],
   "metadata": {
    "collapsed": false
   }
  },
  {
   "cell_type": "code",
   "execution_count": null,
   "outputs": [],
   "source": [
    "IMAGE_SIZE = (512, 512, 3)\n",
    "IMAGE_SCALE = 255.0\n",
    "BATCH_SIZE = 64\n",
    "EPOCHS = 20\n",
    "\n",
    "INPUT_PATH = os.path.join(BASE_PATH, 'tfrecords/train/')\n",
    "ZIP_GD_IN_FILE = os.path.join(DRIVE_PATH, 'MyDrive/g2net/tfrecords_train.zip')\n",
    "EXPER_TPL = f'{\"_\".join(IMAGE_SIZE)}_{BATCH_SIZE}_{EPOCHS}'\n",
    "OUT_PATH = os.path.join(BASE_PATH, f'model/{EXPER_TPL}')\n",
    "GD_OUT_PATH = os.path.join(DRIVE_PATH, f'MyDrive/g2net/model/{EXPER_TPL}/')\n",
    "\n",
    "!mkdir -p $INPUT_PATH\n",
    "!mkdir -p $GD_OUT_PATH\n",
    "!unzip -qq $ZIP_GD_IN_FILE -d '/'"
   ],
   "metadata": {
    "collapsed": false,
    "pycharm": {
     "name": "#%%\n"
    }
   }
  },
  {
   "cell_type": "markdown",
   "source": [
    "Fit EffitientNetB0 model:"
   ],
   "metadata": {
    "collapsed": false
   }
  },
  {
   "cell_type": "code",
   "execution_count": 1,
   "outputs": [],
   "source": [
    "solver = GwEfficientNetB0(\n",
    "    name='eff_net_b0',\n",
    "    mode=TfDevice.TPU,\n",
    "    image_size=IMAGE_SIZE,\n",
    "    image_scale_factor=IMAGE_SCALE,\n",
    "    model_path=OUT_PATH)\n",
    "\n",
    "solver.load_train_dataset(INPUT_PATH, batch_size=BATCH_SIZE)\n",
    "solver.show_random_train_batch(subs={'1': 'GW_TRUE', '0': 'GW_FALSE'})\n",
    "\n",
    "solver.compile()\n",
    "solver.print_model()\n",
    "\n",
    "solver.fit(epochs=EPOCHS)\n",
    "solver.show_hist()"
   ],
   "metadata": {
    "collapsed": false,
    "pycharm": {
     "name": "#%%\n"
    }
   }
  },
  {
   "cell_type": "code",
   "execution_count": null,
   "outputs": [],
   "source": [
    "command = f'cp {solver.model_fullpath} {os.path.join(GD_OUT_PATH, solver.model_filename)}'\n",
    "!{command}"
   ],
   "metadata": {
    "collapsed": false,
    "pycharm": {
     "name": "#%%\n"
    }
   }
  },
  {
   "cell_type": "markdown",
   "source": [
    "Fit Xception model:"
   ],
   "metadata": {
    "collapsed": false
   }
  },
  {
   "cell_type": "code",
   "execution_count": null,
   "outputs": [],
   "source": [
    "solver = GwXception(\n",
    "    name='xception',\n",
    "    mode=TfDevice.TPU,\n",
    "    image_size=IMAGE_SIZE,\n",
    "    image_scale_factor=IMAGE_SCALE,\n",
    "    model_path=OUT_PATH)\n",
    "\n",
    "solver.load_train_dataset(INPUT_PATH, batch_size=BATCH_SIZE)\n",
    "solver.show_random_train_batch(subs={'1': 'GW_TRUE', '0': 'GW_FALSE'})\n",
    "\n",
    "solver.compile()\n",
    "solver.print_model()\n",
    "\n",
    "solver.fit(epochs=EPOCHS)\n",
    "solver.show_hist()"
   ],
   "metadata": {
    "collapsed": false,
    "pycharm": {
     "name": "#%%\n"
    }
   }
  },
  {
   "cell_type": "code",
   "execution_count": null,
   "outputs": [],
   "source": [
    "command = f'cp {solver.model_fullpath} {os.path.join(GD_OUT_PATH, solver.model_filename)}'\n",
    "!{command}"
   ],
   "metadata": {
    "collapsed": false,
    "pycharm": {
     "name": "#%%\n"
    }
   }
  },
  {
   "cell_type": "markdown",
   "source": [
    "Fit LeNet model:"
   ],
   "metadata": {
    "collapsed": false
   }
  },
  {
   "cell_type": "code",
   "execution_count": null,
   "outputs": [],
   "source": [
    "solver = GwLeNet(\n",
    "    name='le_net',\n",
    "    mode=TfDevice.TPU,\n",
    "    image_size=IMAGE_SIZE,\n",
    "    image_scale_factor=IMAGE_SCALE,\n",
    "    model_path=OUT_PATH)\n",
    "\n",
    "solver.load_train_dataset(INPUT_PATH, batch_size=BATCH_SIZE)\n",
    "solver.show_random_train_batch(subs={'1': 'GW_TRUE', '0': 'GW_FALSE'})\n",
    "\n",
    "solver.compile(optimizer='adam',\n",
    "               loss='binary_crossentropy',\n",
    "               metrics=['AUC'])\n",
    "solver.print_model()\n",
    "\n",
    "solver.fit(epochs=EPOCHS)\n",
    "solver.show_hist()"
   ],
   "metadata": {
    "collapsed": false,
    "pycharm": {
     "name": "#%%\n"
    }
   }
  },
  {
   "cell_type": "code",
   "execution_count": null,
   "outputs": [],
   "source": [
    "command = f'cp {solver.model_fullpath} {os.path.join(GD_OUT_PATH, solver.model_filename)}'\n",
    "!{command}"
   ],
   "metadata": {
    "collapsed": false,
    "pycharm": {
     "name": "#%%\n"
    }
   }
  }
 ],
 "metadata": {
  "kernelspec": {
   "display_name": "Python 3",
   "language": "python",
   "name": "python3"
  },
  "language_info": {
   "codemirror_mode": {
    "name": "ipython",
    "version": 2
   },
   "file_extension": ".py",
   "mimetype": "text/x-python",
   "name": "python",
   "nbconvert_exporter": "python",
   "pygments_lexer": "ipython2",
   "version": "2.7.6"
  }
 },
 "nbformat": 4,
 "nbformat_minor": 0
}