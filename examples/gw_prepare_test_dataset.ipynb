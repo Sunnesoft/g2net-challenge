{
 "cells": [
  {
   "cell_type": "markdown",
   "source": [
    "Install gwnet package:"
   ],
   "metadata": {
    "collapsed": false
   }
  },
  {
   "cell_type": "code",
   "execution_count": null,
   "outputs": [],
   "source": [
    "!pip install --upgrade git+git://github.com/Sunnesoft/g2net-challenge.git\n",
    "\n",
    "from gwnet import create_tfrecords"
   ],
   "metadata": {
    "collapsed": false,
    "pycharm": {
     "name": "#%%\n"
    }
   }
  },
  {
   "cell_type": "markdown",
   "source": [
    "Mount Google Drive folder with processed by whiten, bandpass and notch filters dataset:"
   ],
   "metadata": {
    "collapsed": false
   }
  },
  {
   "cell_type": "code",
   "execution_count": null,
   "outputs": [],
   "source": [
    "import os\n",
    "from google.colab import drive\n",
    "\n",
    "BASE_PATH = '/content/'\n",
    "DRIVE_PATH = os.path.join(BASE_PATH, 'drive')\n",
    "drive.mount(DRIVE_PATH)"
   ],
   "metadata": {
    "collapsed": false,
    "pycharm": {
     "name": "#%%\n"
    }
   }
  },
  {
   "cell_type": "markdown",
   "source": [
    "Set up the configuration and extract the CQT dataset from Google Drive to $BASE_PATH folder:"
   ],
   "metadata": {
    "collapsed": false
   }
  },
  {
   "cell_type": "code",
   "execution_count": null,
   "outputs": [],
   "source": [
    "INPUT_PATH = os.path.join(BASE_PATH, 'cqt/test/')\n",
    "OUTPUT_PATH = os.path.join(BASE_PATH, 'tfrecords/test/')\n",
    "OUT_TASK = {OUTPUT_PATH: 100}\n",
    "IMAGE_SIZE = (512, 512)\n",
    "BATCH_SIZE = 1024\n",
    "OUTPUT_ZIP_FILE = os.path.join(BASE_PATH, 'cqt_test.zip')\n",
    "ZIP_GD_IN_FILE = os.path.join(DRIVE_PATH, 'MyDrive/g2net/cqt_test.zip')\n",
    "ZIP_GD_OUT_FILE = os.path.join(DRIVE_PATH, 'MyDrive/g2net/tfrecords_test.zip')\n",
    "\n",
    "!mkdir -p $INPUT_PATH\n",
    "!mkdir -p $OUTPUT_PATH\n",
    "!unzip -qq $ZIP_GD_IN_FILE -d '/'"
   ],
   "metadata": {
    "collapsed": false,
    "pycharm": {
     "name": "#%%\n"
    }
   }
  },
  {
   "cell_type": "markdown",
   "source": [
    "Obtain the test dataset from the constant q-transform spectrograms:"
   ],
   "metadata": {
    "collapsed": false
   }
  },
  {
   "cell_type": "code",
   "execution_count": null,
   "outputs": [],
   "source": [
    "create_tfrecords(\n",
    "    INPUT_PATH, OUT_TASK,\n",
    "    shuffle=True,\n",
    "    batch_size=BATCH_SIZE,\n",
    "    remove_older=True,\n",
    "    image_size=IMAGE_SIZE)"
   ],
   "metadata": {
    "collapsed": false,
    "pycharm": {
     "name": "#%%\n"
    }
   }
  },
  {
   "cell_type": "markdown",
   "source": [
    "Archive results and upload them to Google Drive:"
   ],
   "metadata": {
    "collapsed": false
   }
  },
  {
   "cell_type": "code",
   "execution_count": null,
   "outputs": [],
   "source": [
    "!zip -rq $OUTPUT_ZIP_FILE $OUTPUT_PATH\n",
    "!cp $OUTPUT_ZIP_FILE $ZIP_GD_OUT_FILE"
   ],
   "metadata": {
    "collapsed": false,
    "pycharm": {
     "name": "#%%\n"
    }
   }
  }
 ],
 "metadata": {
  "kernelspec": {
   "display_name": "Python 3",
   "language": "python",
   "name": "python3"
  },
  "language_info": {
   "codemirror_mode": {
    "name": "ipython",
    "version": 2
   },
   "file_extension": ".py",
   "mimetype": "text/x-python",
   "name": "python",
   "nbconvert_exporter": "python",
   "pygments_lexer": "ipython2",
   "version": "2.7.6"
  }
 },
 "nbformat": 4,
 "nbformat_minor": 0
}