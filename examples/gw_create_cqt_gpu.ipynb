{
 "cells": [
  {
   "cell_type": "markdown",
   "source": [
    "Install gwnet package:"
   ],
   "metadata": {
    "collapsed": false,
    "pycharm": {
     "name": "#%% md\n"
    }
   }
  },
  {
   "cell_type": "code",
   "execution_count": null,
   "metadata": {
    "collapsed": true
   },
   "outputs": [],
   "source": [
    "!pip install --upgrade git+git://github.com/Sunnesoft/g2net-challenge.git\n",
    "\n",
    "from gwnet import CQTProcessor, TfDevice"
   ]
  },
  {
   "cell_type": "markdown",
   "source": [
    "Mount Google Drive folder with processed by whiten, bandpass and notch filters dataset:"
   ],
   "metadata": {
    "collapsed": false
   }
  },
  {
   "cell_type": "code",
   "execution_count": null,
   "outputs": [],
   "source": [
    "import os\n",
    "from google.colab import drive\n",
    "\n",
    "BASE_PATH = '/content/'\n",
    "DRIVE_PATH = os.path.join(BASE_PATH, 'drive')\n",
    "drive.mount(DRIVE_PATH)"
   ],
   "metadata": {
    "collapsed": false,
    "pycharm": {
     "name": "#%%\n"
    }
   }
  },
  {
   "cell_type": "markdown",
   "source": [
    "Set up the configuration and extract the filtered dataset from Google Drive to $BASE_PATH folder:"
   ],
   "metadata": {
    "collapsed": false
   }
  },
  {
   "cell_type": "code",
   "execution_count": null,
   "outputs": [],
   "source": [
    "IMAGE_SIZE = (512, 512)\n",
    "BATCH_SIZE = 1024\n",
    "SAMPLE_RATE = 2048\n",
    "FREQ_RANGE = (50, 250, 1)\n",
    "Q_RANGE = (4, 64)\n",
    "TIME_RANGE = (0, 2.0, 1e-2)\n",
    "MISMATCH = 0.05\n",
    "INPUT_PATH = os.path.join(BASE_PATH, 'filtered/train/')\n",
    "OUTPUT_PATH = os.path.join(BASE_PATH, 'cqt/train/')\n",
    "ZIP_GD_IN_FILE = os.path.join(DRIVE_PATH, 'MyDrive/g2net/filtered_train.zip')\n",
    "OUTPUT_ZIP_FILE = os.path.join(BASE_PATH, 'cqt_train.zip')\n",
    "ZIP_GD_OUT_FILE = os.path.join(DRIVE_PATH, 'MyDrive/g2net/cqt_train.zip')\n",
    "\n",
    "!mkdir -p $INPUT_PATH\n",
    "!mkdir -p $OUTPUT_PATH\n",
    "!unzip -qq $ZIP_GD_IN_FILE -d '/'"
   ],
   "metadata": {
    "collapsed": false,
    "pycharm": {
     "name": "#%%\n"
    }
   }
  },
  {
   "cell_type": "markdown",
   "source": [
    "Process the filtered dataset to Constant Q-Transform spectrograms with 3-channels, where each channel corresponds to one of the LIGO-Virgo observatories:"
   ],
   "metadata": {
    "collapsed": false,
    "pycharm": {
     "name": "#%% md\n"
    }
   }
  },
  {
   "cell_type": "code",
   "execution_count": null,
   "outputs": [],
   "source": [
    "proc = CQTProcessor(mode=TfDevice.CPU)\n",
    "print(proc.scan_directory(INPUT_PATH, OUTPUT_PATH, reject_if_exists=True))\n",
    "proc.run(\n",
    "    batch_size=BATCH_SIZE, out_path=OUTPUT_PATH, sample_rate=SAMPLE_RATE,\n",
    "    qrange=Q_RANGE, mismatch=MISMATCH, time_range=TIME_RANGE,\n",
    "    freq_range=FREQ_RANGE, img_size=IMAGE_SIZE, shuffle_tasks=True, verbose=True\n",
    ")"
   ],
   "metadata": {
    "collapsed": false,
    "pycharm": {
     "name": "#%%\n"
    }
   }
  },
  {
   "cell_type": "markdown",
   "source": [
    "Archive results and upload them to Google Drive:"
   ],
   "metadata": {
    "collapsed": false
   }
  },
  {
   "cell_type": "code",
   "execution_count": null,
   "outputs": [],
   "source": [
    "!zip -rq $OUTPUT_ZIP_FILE $OUTPUT_PATH\n",
    "!cp $OUTPUT_ZIP_FILE $ZIP_GD_OUT_FILE\n"
   ],
   "metadata": {
    "collapsed": false,
    "pycharm": {
     "name": "#%%\n"
    }
   }
  }
 ],
 "metadata": {
  "kernelspec": {
   "display_name": "Python 3",
   "language": "python",
   "name": "python3"
  },
  "language_info": {
   "codemirror_mode": {
    "name": "ipython",
    "version": 2
   },
   "file_extension": ".py",
   "mimetype": "text/x-python",
   "name": "python",
   "nbconvert_exporter": "python",
   "pygments_lexer": "ipython2",
   "version": "2.7.6"
  }
 },
 "nbformat": 4,
 "nbformat_minor": 0
}