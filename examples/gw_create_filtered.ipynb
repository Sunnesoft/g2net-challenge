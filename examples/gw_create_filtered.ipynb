{
 "cells": [
  {
   "cell_type": "markdown",
   "source": [
    "# Kaggle g2net-dataset preprocessing with whiten, bandpass and notch filters\n",
    "\n",
    "This notebook describes a kind of the [gravitational waves signals](https://www.kaggle.com/c/g2net-gravitational-wave-detection/overview)\n",
    "processing [approach](https://doi.org/10.1088/1361-6382/ab685e).\n",
    "\n",
    "First of all, install gwnet package. It is the simple tool for g2net-dataset processing.\n",
    "For more detail research use [GWpy](https://github.com/gwpy/gwpy) or\n",
    "[PyCBC](https://pycbc.org/) which includes more procedures for GW processing."
   ],
   "metadata": {
    "collapsed": false
   }
  },
  {
   "cell_type": "code",
   "execution_count": null,
   "outputs": [],
   "source": [
    "!pip install --upgrade git+git://github.com/Sunnesoft/g2net-challenge.git\n",
    "\n",
    "from gwnet import GwTimeseries"
   ],
   "metadata": {
    "collapsed": false,
    "pycharm": {
     "name": "#%%\n"
    }
   }
  },
  {
   "cell_type": "markdown",
   "source": [
    "Mount Google Drive folder with the dataset processed by whiten, bandpass and notch filters:"
   ],
   "metadata": {
    "collapsed": false
   }
  },
  {
   "cell_type": "code",
   "execution_count": null,
   "outputs": [],
   "source": [
    "import os\n",
    "from google.colab import drive\n",
    "\n",
    "BASE_PATH = '/content/'\n",
    "G2NET_PATH = os.path.join(BASE_PATH, 'g2net/')\n",
    "DRIVE_PATH = os.path.join(BASE_PATH, 'drive')\n",
    "drive.mount(DRIVE_PATH)"
   ],
   "metadata": {
    "collapsed": false,
    "pycharm": {
     "name": "#%%\n"
    }
   }
  },
  {
   "cell_type": "markdown",
   "source": [
    "To use the Kaggle API, sign up for a Kaggle account at [kaggle](\n",
    "https://www.kaggle.com). Then go to the 'Account' tab of your user\n",
    "profile and select 'Create API Token'. This will trigger the download of\n",
    "kaggle.json, a file containing your API credentials. Then upload this\n",
    "file to $BASE_PATH folder:"
   ],
   "metadata": {
    "collapsed": false,
    "pycharm": {
     "name": "#%% md\n"
    }
   }
  },
  {
   "cell_type": "code",
   "execution_count": null,
   "outputs": [],
   "source": [
    "from google.colab import files\n",
    "files.upload()"
   ],
   "metadata": {
    "collapsed": false,
    "pycharm": {
     "name": "#%%\n"
    }
   }
  },
  {
   "cell_type": "markdown",
   "source": [
    "Install Kaggle-CLI and move kaggle.json to the target folder:"
   ],
   "metadata": {
    "collapsed": false,
    "pycharm": {
     "name": "#%% md\n"
    }
   }
  },
  {
   "cell_type": "code",
   "execution_count": null,
   "outputs": [],
   "source": [
    "!pip install kaggle==1.5.12\n",
    "!mkdir -p ~/.kaggle\n",
    "!cp kaggle.json ~/.kaggle/\n",
    "!chmod 600 /root/.kaggle/kaggle.json"
   ],
   "metadata": {
    "collapsed": false,
    "pycharm": {
     "name": "#%%\n"
    }
   }
  },
  {
   "cell_type": "markdown",
   "source": [
    "Download and unzip 'g2net-gravitational-wave-detection' dataset:"
   ],
   "metadata": {
    "collapsed": false,
    "pycharm": {
     "name": "#%% md\n"
    }
   }
  },
  {
   "cell_type": "code",
   "execution_count": null,
   "outputs": [],
   "source": [
    "!kaggle competitions download -c g2net-gravitational-wave-detection -p $BASE_PATH\n",
    "!unzip -qq /content/g2net-gravitational-wave-detection.zip -d $G2NET_PATH"
   ],
   "metadata": {
    "collapsed": false,
    "pycharm": {
     "name": "#%%\n"
    }
   }
  },
  {
   "cell_type": "markdown",
   "source": [
    "Set up the configuration:"
   ],
   "metadata": {
    "collapsed": false
   }
  },
  {
   "cell_type": "code",
   "execution_count": null,
   "outputs": [],
   "source": [
    "from tqdm import tqdm\n",
    "\n",
    "SAMPLE_RATE = 2048\n",
    "FREQ_RANGE = (50, 250)\n",
    "WINDOWED_FILTER = ('tukey', 0.1)\n",
    "TRAIN_PATH = os.path.join(G2NET_PATH, 'train/')\n",
    "OUTPUT_PATH = os.path.join(BASE_PATH, 'filtered/train/')\n",
    "ZIP_GD_OUT_FILE = os.path.join(DRIVE_PATH, 'MyDrive/g2net/filtered_train.zip')\n",
    "OUTPUT_ZIP_FILE = os.path.join(BASE_PATH, 'filtered_train.zip')\n",
    "\n",
    "!mkdir -p $TRAIN_FILTERED_PATH"
   ],
   "metadata": {
    "collapsed": false,
    "pycharm": {
     "name": "#%%\n"
    }
   }
  },
  {
   "cell_type": "markdown",
   "source": [
    "Process dataset:"
   ],
   "metadata": {
    "collapsed": false,
    "pycharm": {
     "name": "#%% md\n"
    }
   }
  },
  {
   "cell_type": "code",
   "execution_count": null,
   "outputs": [],
   "source": [
    "createdf_count = 0\n",
    "createdf_count_view = 0\n",
    "createdf_count_step = 1000\n",
    "\n",
    "for root, dirs, files in tqdm(os.walk(TRAIN_PATH)):\n",
    "    rel_path = root.replace(TRAIN_PATH, '')\n",
    "    out_path = os.path.join(OUTPUT_PATH, rel_path)\n",
    "    os.makedirs(out_path, exist_ok=True)\n",
    "\n",
    "    for fname in files:\n",
    "        in_fn = os.path.join(root, fname)\n",
    "        out_fn = os.path.join(out_path, fname.split('.')[0] + '.npy')\n",
    "\n",
    "        if os.path.exists(out_fn):\n",
    "            continue\n",
    "\n",
    "        tss = GwTimeseries.load(in_fn, SAMPLE_RATE)\n",
    "\n",
    "        sps = []\n",
    "        for ts in tss:\n",
    "            f, Pxx = ts.psd(fftlength=ts.duration, nperseg=2048, overlap=0.75, window=('tukey', 0.5))\n",
    "            ts.apply_window(window=WINDOWED_FILTER)\n",
    "            ts.whiten(psd_val=(f, Pxx))\n",
    "            ts.filter(frange=FREQ_RANGE,\n",
    "                      psd_val=(f, Pxx),\n",
    "                      outlier_threshold=3.0)\n",
    "\n",
    "        GwTimeseries.save(out_fn, tss)\n",
    "        createdf_count += 1\n",
    "\n",
    "    if createdf_count > createdf_count_view:\n",
    "        print(f'{createdf_count} files processed.')\n",
    "        createdf_count_view += createdf_count_step"
   ],
   "metadata": {
    "collapsed": false,
    "pycharm": {
     "name": "#%%\n"
    }
   }
  },
  {
   "cell_type": "markdown",
   "source": [
    "Archive results and upload them to Google Drive:"
   ],
   "metadata": {
    "collapsed": false
   }
  },
  {
   "cell_type": "code",
   "execution_count": null,
   "outputs": [],
   "source": [
    "!zip -rq $OUTPUT_ZIP_FILE $OUTPUT_PATH\n",
    "!cp $OUTPUT_ZIP_FILE $ZIP_GD_OUT_FILE"
   ],
   "metadata": {
    "collapsed": false,
    "pycharm": {
     "name": "#%%\n"
    }
   }
  }
 ],
 "metadata": {
  "kernelspec": {
   "display_name": "Python 3",
   "language": "python",
   "name": "python3"
  },
  "language_info": {
   "codemirror_mode": {
    "name": "ipython",
    "version": 2
   },
   "file_extension": ".py",
   "mimetype": "text/x-python",
   "name": "python",
   "nbconvert_exporter": "python",
   "pygments_lexer": "ipython2",
   "version": "2.7.6"
  }
 },
 "nbformat": 4,
 "nbformat_minor": 0
}