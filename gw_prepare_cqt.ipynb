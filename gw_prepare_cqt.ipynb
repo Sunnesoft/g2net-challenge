{
  "nbformat": 4,
  "nbformat_minor": 0,
  "metadata": {
    "colab": {
      "name": "gw_prepare_cqt.ipynb",
      "provenance": [],
      "collapsed_sections": []
    },
    "kernelspec": {
      "name": "python3",
      "display_name": "Python 3"
    },
    "language_info": {
      "name": "python"
    }
  },
  "cells": [
    {
      "cell_type": "code",
      "metadata": {
        "colab": {
          "base_uri": "https://localhost:8080/"
        },
        "id": "G4nBLakaHOeO",
        "outputId": "d4d6d68e-a5f0-4405-c0a5-bca27c871b61"
      },
      "source": [
        "from google.colab import drive\n",
        "drive.mount('/content/drive')"
      ],
      "execution_count": null,
      "outputs": [
        {
          "output_type": "stream",
          "text": [
            "Drive already mounted at /content/drive; to attempt to forcibly remount, call drive.mount(\"/content/drive\", force_remount=True).\n"
          ],
          "name": "stdout"
        }
      ]
    },
    {
      "cell_type": "code",
      "metadata": {
        "colab": {
          "base_uri": "https://localhost:8080/"
        },
        "id": "-Z4TDhcSQjdD",
        "outputId": "d00b1626-f9a7-4eb1-cace-3b1515443230"
      },
      "source": [
        "!rm gw_process.py\n",
        "!wget https://raw.githubusercontent.com/Sunnesoft/g2net-challenge/main/gw_process.py"
      ],
      "execution_count": null,
      "outputs": [
        {
          "output_type": "stream",
          "text": [
            "rm: cannot remove 'gw_process.py': No such file or directory\n",
            "--2021-08-18 08:10:37--  https://raw.githubusercontent.com/Sunnesoft/g2net-challenge/main/gw_process.py\n",
            "Resolving raw.githubusercontent.com (raw.githubusercontent.com)... 185.199.108.133, 185.199.109.133, 185.199.110.133, ...\n",
            "Connecting to raw.githubusercontent.com (raw.githubusercontent.com)|185.199.108.133|:443... connected.\n",
            "HTTP request sent, awaiting response... 200 OK\n",
            "Length: 21120 (21K) [text/plain]\n",
            "Saving to: ‘gw_process.py’\n",
            "\n",
            "gw_process.py       100%[===================>]  20.62K  --.-KB/s    in 0.001s  \n",
            "\n",
            "2021-08-18 08:10:37 (13.8 MB/s) - ‘gw_process.py’ saved [21120/21120]\n",
            "\n"
          ],
          "name": "stdout"
        }
      ]
    },
    {
      "cell_type": "code",
      "metadata": {
        "id": "YPvLGpEWRivW"
      },
      "source": [
        "import gw_process as gw"
      ],
      "execution_count": null,
      "outputs": []
    },
    {
      "cell_type": "code",
      "metadata": {
        "id": "rq8IffHGSSmq"
      },
      "source": [
        "fname = '/content/drive/MyDrive/g2net/train/0/0/0/000a5b6e5c.npy'\n",
        "sample_rate = 2048\n",
        "duration = 2.0\n",
        "img = gw.create_cqt_image(\n",
        "    fname, sample_rate=sample_rate, ww_fftlength=duration,\n",
        "    ww_nperseg=2048, ww_overlap=0.75, ww_window=('tukey', 0.15),\n",
        "    frange=(35, 250), qrange=(6, 24), qmismatch=0.1, outlier_threshold=3.0,\n",
        "    out_time_range=(0, duration, 15 / sample_rate), out_freq_range=(35, 250, 1),\n",
        "    mode='vstacked', input_time_range=None, cqt_norm_minmax=(-1, 20))\n",
        "img.resize((760, 760))"
      ],
      "execution_count": null,
      "outputs": []
    },
    {
      "cell_type": "code",
      "metadata": {
        "colab": {
          "base_uri": "https://localhost:8080/"
        },
        "id": "3j2F3XK0dQ_C",
        "outputId": "8506d567-de32-4505-af4f-12f481631f8c"
      },
      "source": [
        "import os\n",
        "from tqdm import tqdm\n",
        "\n",
        "TRAIN_PATH = '/content/drive/MyDrive/g2net/train/'\n",
        "TRAIN_CQT_PATH = '/content/tmp/'\n",
        "\n",
        "sample_rate = 2048\n",
        "duration = 2.0\n",
        "\n",
        "for root, dirs, files in tqdm(os.walk(TRAIN_PATH)):\n",
        "    path = root.split(os.sep)\n",
        "    print((len(path) - 1) * '---', os.path.basename(root))\n",
        "\n",
        "    rel_path = root.replace(TRAIN_PATH, '')\n",
        "    out_path = os.path.join(TRAIN_CQT_PATH, rel_path)\n",
        "    os.makedirs(out_path, exist_ok=True)\n",
        "\n",
        "    createdf_count = 0\n",
        "\n",
        "    for fname in files:\n",
        "      # print(len(path) * '---', fname)\n",
        "      in_fn = os.path.join(root, fname)\n",
        "      out_fn = os.path.join(out_path, fname.split('.')[0] + '.png')\n",
        "\n",
        "      if os.path.exists(out_fn):\n",
        "        continue\n",
        "\n",
        "      img = gw.create_cqt_image(\n",
        "          in_fn, \n",
        "          sample_rate=sample_rate, \n",
        "          ww_fftlength=duration,\n",
        "          ww_nperseg=1024, \n",
        "          ww_overlap=0.75, \n",
        "          ww_window=('tukey', 0.15),\n",
        "          frange=(35, 250), \n",
        "          qrange=(4, 32), \n",
        "          qmismatch=0.1, \n",
        "          outlier_threshold=3.0,\n",
        "          out_time_range=(0, duration, 15 / sample_rate), \n",
        "          out_freq_range=(35, 250, 1),\n",
        "          mode='vstacked', \n",
        "          input_time_range=None, \n",
        "          cqt_norm_minmax=(-1, 20))\n",
        "      gw.save_cqt_image(img, out_fn, size=(760, 760))\n",
        "      createdf_count += 1\n",
        "    print(f'{createdf_count} files processed.')"
      ],
      "execution_count": null,
      "outputs": [
        {
          "output_type": "stream",
          "text": [
            "\r0it [00:00, ?it/s]"
          ],
          "name": "stderr"
        },
        {
          "output_type": "stream",
          "text": [
            "------------------ \n",
            "0 files processed.\n",
            "------------------ 0\n",
            "0 files processed.\n",
            "--------------------- 0\n",
            "0 files processed.\n",
            "------------------------ 0\n"
          ],
          "name": "stdout"
        },
        {
          "output_type": "stream",
          "text": [
            "\r4it [00:54, 13.61s/it]"
          ],
          "name": "stderr"
        },
        {
          "output_type": "stream",
          "text": [
            "155 files processed.\n",
            "------------------------ 1\n"
          ],
          "name": "stdout"
        },
        {
          "output_type": "stream",
          "text": [
            "\r5it [02:09, 29.67s/it]"
          ],
          "name": "stderr"
        },
        {
          "output_type": "stream",
          "text": [
            "125 files processed.\n",
            "------------------------ 2\n"
          ],
          "name": "stdout"
        },
        {
          "output_type": "stream",
          "text": [
            "\r6it [03:36, 45.52s/it]"
          ],
          "name": "stderr"
        },
        {
          "output_type": "stream",
          "text": [
            "139 files processed.\n",
            "------------------------ 3\n"
          ],
          "name": "stdout"
        },
        {
          "output_type": "stream",
          "text": [
            "\r7it [05:02, 56.91s/it]"
          ],
          "name": "stderr"
        },
        {
          "output_type": "stream",
          "text": [
            "137 files processed.\n",
            "------------------------ 4\n"
          ],
          "name": "stdout"
        },
        {
          "output_type": "stream",
          "text": [
            "\r8it [06:51, 71.76s/it]"
          ],
          "name": "stderr"
        },
        {
          "output_type": "stream",
          "text": [
            "167 files processed.\n",
            "------------------------ 5\n"
          ],
          "name": "stdout"
        },
        {
          "output_type": "stream",
          "text": [
            "\r9it [08:31, 80.04s/it]"
          ],
          "name": "stderr"
        },
        {
          "output_type": "stream",
          "text": [
            "162 files processed.\n",
            "------------------------ 6\n"
          ],
          "name": "stdout"
        },
        {
          "output_type": "stream",
          "text": [
            "\r10it [10:01, 82.86s/it]"
          ],
          "name": "stderr"
        },
        {
          "output_type": "stream",
          "text": [
            "145 files processed.\n",
            "------------------------ 7\n"
          ],
          "name": "stdout"
        },
        {
          "output_type": "stream",
          "text": [
            "\r11it [11:30, 84.52s/it]"
          ],
          "name": "stderr"
        },
        {
          "output_type": "stream",
          "text": [
            "143 files processed.\n",
            "------------------------ 8\n"
          ],
          "name": "stdout"
        },
        {
          "output_type": "stream",
          "text": [
            "\r12it [12:56, 85.14s/it]"
          ],
          "name": "stderr"
        },
        {
          "output_type": "stream",
          "text": [
            "135 files processed.\n",
            "------------------------ 9\n"
          ],
          "name": "stdout"
        },
        {
          "output_type": "stream",
          "text": [
            "\r13it [14:18, 84.05s/it]"
          ],
          "name": "stderr"
        },
        {
          "output_type": "stream",
          "text": [
            "128 files processed.\n",
            "------------------------ a\n"
          ],
          "name": "stdout"
        },
        {
          "output_type": "stream",
          "text": [
            "\r14it [15:44, 84.71s/it]"
          ],
          "name": "stderr"
        },
        {
          "output_type": "stream",
          "text": [
            "139 files processed.\n",
            "------------------------ b\n"
          ],
          "name": "stdout"
        },
        {
          "output_type": "stream",
          "text": [
            "\r15it [17:10, 85.20s/it]"
          ],
          "name": "stderr"
        },
        {
          "output_type": "stream",
          "text": [
            "136 files processed.\n",
            "------------------------ c\n"
          ],
          "name": "stdout"
        },
        {
          "output_type": "stream",
          "text": [
            "\r16it [18:32, 84.04s/it]"
          ],
          "name": "stderr"
        },
        {
          "output_type": "stream",
          "text": [
            "128 files processed.\n",
            "------------------------ d\n"
          ],
          "name": "stdout"
        },
        {
          "output_type": "stream",
          "text": [
            "\r17it [20:08, 87.79s/it]"
          ],
          "name": "stderr"
        },
        {
          "output_type": "stream",
          "text": [
            "152 files processed.\n",
            "------------------------ e\n"
          ],
          "name": "stdout"
        },
        {
          "output_type": "stream",
          "text": [
            "\r18it [21:30, 85.87s/it]"
          ],
          "name": "stderr"
        },
        {
          "output_type": "stream",
          "text": [
            "128 files processed.\n",
            "------------------------ f\n"
          ],
          "name": "stdout"
        }
      ]
    }
  ]
}